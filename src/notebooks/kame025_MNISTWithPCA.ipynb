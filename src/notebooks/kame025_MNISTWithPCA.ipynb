{
 "cells": [
  {
   "cell_type": "code",
   "execution_count": 1,
   "id": "e7c0b57f-687f-46f7-a6c4-be23f860b900",
   "metadata": {},
   "outputs": [
    {
     "name": "stderr",
     "output_type": "stream",
     "text": [
      "/Users/dav_id3/Development/analysis-environment/.venv/lib/python3.11/site-packages/sklearn/datasets/_openml.py:1022: FutureWarning: The default value of `parser` will change from `'liac-arff'` to `'auto'` in 1.4. You can set `parser='auto'` to silence this warning. Therefore, an `ImportError` will be raised from 1.4 if the dataset is dense and pandas is not installed. Note that the pandas parser may return different data types. See the Notes Section in fetch_openml's API doc for details.\n",
      "  warn(\n"
     ]
    }
   ],
   "source": [
    "from sklearn.datasets import fetch_openml\n",
    "mnist = fetch_openml(\"mnist_784\")"
   ]
  },
  {
   "cell_type": "code",
   "execution_count": 2,
   "id": "5d67d0aa-cbc3-40fe-a957-87bc68da2273",
   "metadata": {},
   "outputs": [],
   "source": [
    "from sklearn.preprocessing import StandardScaler\n",
    "from sklearn.model_selection import train_test_split\n",
    "X_train, X_test, y_train, y_test = train_test_split(mnist.data, mnist.target, test_size=0.3, random_state=0)\n",
    "scaler = StandardScaler()\n",
    "scaler.fit(X_train)\n",
    "X_train = scaler.transform(X_train)\n",
    "X_test = scaler.transform(X_test)"
   ]
  },
  {
   "cell_type": "code",
   "execution_count": 3,
   "id": "d54db857-7147-48a6-b338-28a766040845",
   "metadata": {},
   "outputs": [
    {
     "name": "stdout",
     "output_type": "stream",
     "text": [
      "[0.0571589  0.04098322 0.03769448 0.02934975 0.02542204 0.02201498\n",
      " 0.01939355 0.01774181 0.01553121 0.01411787 0.01354584 0.01219546\n",
      " 0.01122157 0.01102235 0.0103737  0.01004918 0.00942481 0.00932382\n",
      " 0.00902085 0.00875697 0.008329   0.00803792 0.00769258 0.00749708\n",
      " 0.00725602 0.00701751 0.00689666 0.00666842 0.00633561 0.0062404\n",
      " 0.00606871 0.00597272 0.00577239 0.00575249 0.00569418 0.00561902\n",
      " 0.00545449 0.00536208 0.0052468  0.00518615 0.00500267 0.00482055\n",
      " 0.00477877 0.00470919 0.00466383 0.0045698  0.00450741 0.00443638\n",
      " 0.0043878  0.00431127 0.00426054 0.00413222 0.00408863 0.00403828\n",
      " 0.00394816 0.00391276 0.00381675 0.00375578 0.00371915 0.00362711\n",
      " 0.00358816 0.00354259 0.0034939  0.00345858 0.00337837 0.00336704\n",
      " 0.00335483 0.00325945 0.00323363 0.00320011 0.00318529 0.00313528\n",
      " 0.00310205 0.00307003 0.00303343 0.00300128 0.00297574 0.00292424\n",
      " 0.0029006  0.00287826 0.00286982 0.00283387 0.00281848 0.0028094\n",
      " 0.00280487 0.00279062 0.00275632 0.00274126 0.00270296 0.00269132\n",
      " 0.002673   0.00262272 0.0025978  0.00257608 0.00255204 0.00251927\n",
      " 0.00250591 0.00245374 0.00241678 0.00240907 0.00238276 0.00237182\n",
      " 0.00235429 0.00230452 0.00228965 0.00226089 0.00224948 0.00222668\n",
      " 0.00221694 0.00218775 0.0021826  0.00217062 0.00214863 0.0021414\n",
      " 0.00208557 0.00206607 0.0020514  0.00202427 0.00201138 0.0019862\n",
      " 0.0019714  0.00194544 0.00193154 0.00191946 0.00188608 0.00187825\n",
      " 0.0018528  0.00182783 0.00181954 0.00179985 0.00179717 0.00177717\n",
      " 0.00175789 0.00174586 0.00174103 0.00171818 0.00168912 0.00167658\n",
      " 0.00166521 0.00165468 0.00164515 0.00161287 0.00160042 0.00159026\n",
      " 0.00158031 0.00156619 0.00156221 0.00154888 0.00153276 0.00152769\n",
      " 0.00149091 0.00147715 0.00146036 0.00145007 0.00143935 0.00143061\n",
      " 0.00141567 0.00141212 0.0014094  0.00140653 0.00139916 0.00138661\n",
      " 0.00137606 0.00137405 0.00136349 0.00135149 0.00134171 0.00133626\n",
      " 0.00132797 0.00131574 0.00129995 0.00129268 0.00128637 0.00128003\n",
      " 0.00127161 0.00125277 0.00124442 0.00122786 0.00122106 0.00120362\n",
      " 0.00120229 0.00119582 0.00118319 0.00117834 0.00116411 0.00115784\n",
      " 0.0011359  0.00113416 0.00111621 0.00110998 0.00108681 0.00108199\n",
      " 0.00107266 0.00106689 0.00105681 0.00104533 0.0010396  0.00102908\n",
      " 0.00102276 0.0010035  0.00100247 0.00098759 0.00098598 0.00098225\n",
      " 0.00097263 0.0009654  0.00096258 0.00094897 0.00094326 0.0009367\n",
      " 0.00093114 0.00091907 0.00090542 0.00090288 0.00089796 0.00089051\n",
      " 0.00088153 0.00087213 0.00086279 0.00085577 0.00084745 0.00083924\n",
      " 0.00083756 0.00083728 0.00082391 0.00081634 0.00080643 0.00079688\n",
      " 0.00079194 0.00078504 0.00077616 0.00076274 0.00075512 0.00074625\n",
      " 0.00074019 0.00073474 0.0007274  0.00072144 0.00071602 0.00071178\n",
      " 0.00070182 0.00069484 0.00069406 0.00068605 0.00068095 0.00066776\n",
      " 0.00066634 0.00066499 0.00065749 0.00065357 0.0006432  0.00063422\n",
      " 0.00063329 0.00062537 0.0006205  0.00061381 0.00061008 0.000609\n",
      " 0.00060719 0.00060005 0.00059396 0.00058794 0.00058482 0.00058016\n",
      " 0.00057982 0.00057331 0.00057001 0.00056502 0.00055872 0.00055556\n",
      " 0.00054982 0.00054407 0.00054093 0.00053649 0.00053268 0.00052776\n",
      " 0.00052291 0.00051904 0.00051415 0.00051181 0.0005068  0.00050352\n",
      " 0.00050064 0.00049827 0.00049354 0.00049196 0.00048767 0.00048437\n",
      " 0.00048045 0.00047754 0.00047308 0.00046358 0.00046007 0.00045154\n",
      " 0.00045076 0.00044706 0.00044475 0.00043937 0.00043684 0.00043397\n",
      " 0.00043246 0.00042945 0.00042458 0.00042077 0.0004165  0.0004152\n",
      " 0.00041287 0.00040919 0.00040642 0.0004058  0.000397   0.00039383\n",
      " 0.00039058 0.00038786 0.00038333 0.00038163 0.00037922 0.00037773\n",
      " 0.00037498 0.00037268 0.00037039 0.00036598 0.00035979]\n"
     ]
    }
   ],
   "source": [
    "from sklearn.decomposition import PCA\n",
    "pca = PCA(n_components=0.95)\n",
    "pca.fit(X_train)\n",
    "X_train_pc = pca.transform(X_train)\n",
    "X_test_pc = pca.transform(X_test)\n",
    "print(pca.explained_variance_ratio_)"
   ]
  },
  {
   "cell_type": "code",
   "execution_count": 4,
   "id": "7ac5a6a1-91dd-4ed9-a796-3b691fe51173",
   "metadata": {},
   "outputs": [
    {
     "name": "stdout",
     "output_type": "stream",
     "text": [
      "[0.0571589  0.09814212 0.1358366  0.16518634 0.19060838 0.21262336\n",
      " 0.23201691 0.24975872 0.26528993 0.2794078  0.29295364 0.3051491\n",
      " 0.31637067 0.32739302 0.33776672 0.3478159  0.35724071 0.36656453\n",
      " 0.37558539 0.38434236 0.39267136 0.40070927 0.40840186 0.41589893\n",
      " 0.42315496 0.43017247 0.43706913 0.44373755 0.45007315 0.45631355\n",
      " 0.46238227 0.46835499 0.47412738 0.47987987 0.48557405 0.49119307\n",
      " 0.49664756 0.50200964 0.50725644 0.51244259 0.51744526 0.52226581\n",
      " 0.52704459 0.53175378 0.53641762 0.54098741 0.54549483 0.54993121\n",
      " 0.55431901 0.55863028 0.56289082 0.56702305 0.57111168 0.57514996\n",
      " 0.57909812 0.58301088 0.58682763 0.59058341 0.59430257 0.59792967\n",
      " 0.60151783 0.60506042 0.60855433 0.6120129  0.61539128 0.61875832\n",
      " 0.62211315 0.6253726  0.62860623 0.63180634 0.63499163 0.63812691\n",
      " 0.64122896 0.64429899 0.64733242 0.65033371 0.65330945 0.65623369\n",
      " 0.65913429 0.66201254 0.66488237 0.66771623 0.67053472 0.67334411\n",
      " 0.67614899 0.6789396  0.68169592 0.68443719 0.68714015 0.68983147\n",
      " 0.69250447 0.6951272  0.69772499 0.70030107 0.70285311 0.70537238\n",
      " 0.70787829 0.71033203 0.7127488  0.71515787 0.71754063 0.71991245\n",
      " 0.72226674 0.72457126 0.72686091 0.7291218  0.73137127 0.73359796\n",
      " 0.73581489 0.73800265 0.74018525 0.74235587 0.7445045  0.7466459\n",
      " 0.74873146 0.75079753 0.75284893 0.7548732  0.75688458 0.75887079\n",
      " 0.76084218 0.76278763 0.76471917 0.76663863 0.7685247  0.77040295\n",
      " 0.77225575 0.77408357 0.77590311 0.77770296 0.77950013 0.78127731\n",
      " 0.7830352  0.78478106 0.78652208 0.78824026 0.78992938 0.79160596\n",
      " 0.79327117 0.79492585 0.796571   0.79818387 0.79978429 0.80137455\n",
      " 0.80295486 0.80452105 0.80608326 0.80763214 0.8091649  0.81069259\n",
      " 0.8121835  0.81366065 0.815121   0.81657108 0.81801043 0.81944104\n",
      " 0.82085671 0.82226883 0.82367823 0.82508476 0.82648392 0.82787053\n",
      " 0.82924659 0.83062063 0.83198413 0.83333561 0.83467732 0.83601358\n",
      " 0.83734155 0.8386573  0.83995725 0.84124993 0.8425363  0.84381634\n",
      " 0.84508795 0.84634072 0.84758514 0.848813   0.85003405 0.85123767\n",
      " 0.85243996 0.85363579 0.85481897 0.85599732 0.85716143 0.85831927\n",
      " 0.85945517 0.86058933 0.86170554 0.86281551 0.86390232 0.86498431\n",
      " 0.86605697 0.86712386 0.86818067 0.869226   0.87026559 0.87129468\n",
      " 0.87231743 0.87332094 0.87432341 0.87531099 0.87629697 0.87727922\n",
      " 0.87825185 0.87921725 0.88017983 0.8811288  0.88207205 0.88300875\n",
      " 0.88393989 0.88485896 0.88576438 0.88666726 0.88756522 0.88845574\n",
      " 0.88933726 0.89020939 0.89107218 0.89192794 0.8927754  0.89361463\n",
      " 0.89445219 0.89528947 0.89611338 0.89692972 0.89773616 0.89853304\n",
      " 0.89932498 0.90011002 0.90088618 0.90164892 0.90240405 0.90315029\n",
      " 0.90389048 0.90462522 0.90535262 0.90607407 0.90679008 0.90750186\n",
      " 0.90820368 0.90889851 0.90959257 0.91027862 0.91095958 0.91162733\n",
      " 0.91229368 0.91295866 0.91361616 0.91426973 0.91491293 0.91554715\n",
      " 0.91618044 0.91680581 0.91742631 0.91804012 0.9186502  0.91925919\n",
      " 0.91986638 0.92046643 0.92106039 0.92164833 0.92223315 0.92281331\n",
      " 0.92339313 0.92396644 0.92453645 0.92510147 0.92566019 0.92621575\n",
      " 0.92676557 0.92730964 0.92785057 0.92838706 0.92891974 0.9294475\n",
      " 0.92997042 0.93048946 0.93100361 0.93151542 0.93202222 0.93252574\n",
      " 0.93302638 0.93352465 0.93401819 0.93451015 0.93499782 0.93548219\n",
      " 0.93596264 0.93644018 0.93691326 0.93737684 0.93783691 0.93828845\n",
      " 0.93873921 0.93918627 0.93963102 0.94007039 0.94050723 0.9409412\n",
      " 0.94137366 0.94180311 0.94222769 0.94264846 0.94306496 0.94348015\n",
      " 0.94389303 0.94430222 0.94470864 0.94511444 0.94551144 0.94590527\n",
      " 0.94629585 0.94668371 0.94706704 0.94744867 0.94782789 0.94820562\n",
      " 0.9485806  0.94895327 0.94932367 0.94968965 0.95004944]\n"
     ]
    }
   ],
   "source": [
    "import numpy as np\n",
    "\n",
    "print(np.cumsum(pca.explained_variance_ratio_))"
   ]
  },
  {
   "cell_type": "code",
   "execution_count": 5,
   "id": "82dfd32c-f34c-4d18-9be2-49537df2fbfa",
   "metadata": {},
   "outputs": [
    {
     "name": "stdout",
     "output_type": "stream",
     "text": [
      "Fit took  7.48s\n"
     ]
    },
    {
     "name": "stderr",
     "output_type": "stream",
     "text": [
      "/Users/dav_id3/Development/analysis-environment/.venv/lib/python3.11/site-packages/sklearn/linear_model/_logistic.py:460: ConvergenceWarning: lbfgs failed to converge (status=1):\n",
      "STOP: TOTAL NO. of ITERATIONS REACHED LIMIT.\n",
      "\n",
      "Increase the number of iterations (max_iter) or scale the data as shown in:\n",
      "    https://scikit-learn.org/stable/modules/preprocessing.html\n",
      "Please also refer to the documentation for alternative solver options:\n",
      "    https://scikit-learn.org/stable/modules/linear_model.html#logistic-regression\n",
      "  n_iter_i = _check_optimize_result(\n"
     ]
    }
   ],
   "source": [
    "from sklearn.linear_model import LogisticRegression\n",
    "import time\n",
    "model = LogisticRegression()\n",
    "before = time.time()\n",
    "model.fit(X_train_pc, y_train)\n",
    "after = time.time()\n",
    "print(f\"Fit took {after-before: .2f}s\")"
   ]
  },
  {
   "cell_type": "code",
   "execution_count": 6,
   "id": "08962683-a5b1-467f-9487-3f0bd237d601",
   "metadata": {},
   "outputs": [
    {
     "name": "stdout",
     "output_type": "stream",
     "text": [
      "Fit took  12.76s\n"
     ]
    },
    {
     "name": "stderr",
     "output_type": "stream",
     "text": [
      "/Users/dav_id3/Development/analysis-environment/.venv/lib/python3.11/site-packages/sklearn/linear_model/_logistic.py:460: ConvergenceWarning: lbfgs failed to converge (status=1):\n",
      "STOP: TOTAL NO. of ITERATIONS REACHED LIMIT.\n",
      "\n",
      "Increase the number of iterations (max_iter) or scale the data as shown in:\n",
      "    https://scikit-learn.org/stable/modules/preprocessing.html\n",
      "Please also refer to the documentation for alternative solver options:\n",
      "    https://scikit-learn.org/stable/modules/linear_model.html#logistic-regression\n",
      "  n_iter_i = _check_optimize_result(\n"
     ]
    }
   ],
   "source": [
    "model2 = LogisticRegression()\n",
    "before = time.time()\n",
    "model2.fit(X_train, y_train)\n",
    "after = time.time()\n",
    "print(f\"Fit took {after-before: .2f}s\")"
   ]
  },
  {
   "cell_type": "code",
   "execution_count": 15,
   "id": "3e15b29f-8045-4d64-babe-c72e6b86f439",
   "metadata": {},
   "outputs": [],
   "source": [
    "from sklearn.preprocessing import label_binarize\n",
    "from sklearn.metrics import roc_curve, auc\n",
    "def all_roc(model, X_test, y_test):\n",
    "    n_classes = len(model.classes_)\n",
    "    y_test_one_hot = label_binarize(y_test, classes=list(map(str, range(n_classes))))\n",
    "    y_pred_proba = model.predict_proba(X_test)\n",
    "    \n",
    "    fpr = {}\n",
    "    tpr = {}\n",
    "    auc_roc = {}\n",
    "    for i in range(n_classes):\n",
    "        fpr[i], tpr[i], _ = roc_curve(y_test_one_hot[:, i], y_pred_proba[:, i])\n",
    "        auc_roc[i] = auc(fpr[i], tpr[i])\n",
    "    # micro \n",
    "    fpr[\"micro\"], tpr[\"micro\"], _ = roc_curve(y_test_one_hot.ravel(), y_pred_proba.ravel())\n",
    "    auc_roc[\"micro\"] = auc(fpr[\"micro\"], tpr[\"micro\"])\n",
    "\n",
    "    # macro\n",
    "    fpr_all = np.unique(np.concatenate(list(fpr.values())))\n",
    "    mean_tpr = np.zeros_like(fpr_all)\n",
    "    for i in range(n_classes):\n",
    "        mean_tpr += np.interp(fpr_all, fpr[i], tpr[i])\n",
    "    mean_tpr /= n_classes\n",
    "    fpr[\"macro\"] = fpr_all\n",
    "    tpr[\"macro\"] = mean_tpr\n",
    "    auc_roc[\"macro\"] = auc(fpr[\"macro\"], tpr[\"macro\"])\n",
    "    \n",
    "    return fpr, tpr, auc_roc\n",
    "\n",
    "fpr_pca, tpr_pca, roc_auc_pca = all_roc(model, X_test_pc, y_test)\n",
    "fpr, tpr, roc_auc = all_roc(model2, X_test, y_test)\n"
   ]
  },
  {
   "cell_type": "code",
   "execution_count": 17,
   "id": "a4d40db2-970d-4f1e-9e60-9a8d20d0824a",
   "metadata": {},
   "outputs": [
    {
     "data": {
      "text/html": [
       "<div>\n",
       "<style scoped>\n",
       "    .dataframe tbody tr th:only-of-type {\n",
       "        vertical-align: middle;\n",
       "    }\n",
       "\n",
       "    .dataframe tbody tr th {\n",
       "        vertical-align: top;\n",
       "    }\n",
       "\n",
       "    .dataframe thead th {\n",
       "        text-align: right;\n",
       "    }\n",
       "</style>\n",
       "<table border=\"1\" class=\"dataframe\">\n",
       "  <thead>\n",
       "    <tr style=\"text-align: right;\">\n",
       "      <th></th>\n",
       "      <th>normal</th>\n",
       "      <th>pca</th>\n",
       "    </tr>\n",
       "  </thead>\n",
       "  <tbody>\n",
       "    <tr>\n",
       "      <th>0</th>\n",
       "      <td>0.997611</td>\n",
       "      <td>0.997578</td>\n",
       "    </tr>\n",
       "    <tr>\n",
       "      <th>1</th>\n",
       "      <td>0.997414</td>\n",
       "      <td>0.997493</td>\n",
       "    </tr>\n",
       "    <tr>\n",
       "      <th>2</th>\n",
       "      <td>0.982364</td>\n",
       "      <td>0.984333</td>\n",
       "    </tr>\n",
       "    <tr>\n",
       "      <th>3</th>\n",
       "      <td>0.988561</td>\n",
       "      <td>0.990357</td>\n",
       "    </tr>\n",
       "    <tr>\n",
       "      <th>4</th>\n",
       "      <td>0.993644</td>\n",
       "      <td>0.994467</td>\n",
       "    </tr>\n",
       "    <tr>\n",
       "      <th>5</th>\n",
       "      <td>0.984938</td>\n",
       "      <td>0.986218</td>\n",
       "    </tr>\n",
       "    <tr>\n",
       "      <th>6</th>\n",
       "      <td>0.993939</td>\n",
       "      <td>0.994818</td>\n",
       "    </tr>\n",
       "    <tr>\n",
       "      <th>7</th>\n",
       "      <td>0.992476</td>\n",
       "      <td>0.993346</td>\n",
       "    </tr>\n",
       "    <tr>\n",
       "      <th>8</th>\n",
       "      <td>0.985250</td>\n",
       "      <td>0.987956</td>\n",
       "    </tr>\n",
       "    <tr>\n",
       "      <th>9</th>\n",
       "      <td>0.988507</td>\n",
       "      <td>0.989675</td>\n",
       "    </tr>\n",
       "    <tr>\n",
       "      <th>micro</th>\n",
       "      <td>0.991369</td>\n",
       "      <td>0.992379</td>\n",
       "    </tr>\n",
       "    <tr>\n",
       "      <th>macro</th>\n",
       "      <td>0.990485</td>\n",
       "      <td>0.991638</td>\n",
       "    </tr>\n",
       "  </tbody>\n",
       "</table>\n",
       "</div>"
      ],
      "text/plain": [
       "         normal       pca\n",
       "0      0.997611  0.997578\n",
       "1      0.997414  0.997493\n",
       "2      0.982364  0.984333\n",
       "3      0.988561  0.990357\n",
       "4      0.993644  0.994467\n",
       "5      0.984938  0.986218\n",
       "6      0.993939  0.994818\n",
       "7      0.992476  0.993346\n",
       "8      0.985250  0.987956\n",
       "9      0.988507  0.989675\n",
       "micro  0.991369  0.992379\n",
       "macro  0.990485  0.991638"
      ]
     },
     "execution_count": 17,
     "metadata": {},
     "output_type": "execute_result"
    }
   ],
   "source": [
    "import pandas as pd\n",
    "\n",
    "result_df = pd.DataFrame([roc_auc, roc_auc_pca]).T.rename(columns = {0: \"normal\", 1: \"pca\"})\n",
    "result_df"
   ]
  },
  {
   "cell_type": "code",
   "execution_count": null,
   "id": "494faf94-b1b2-4cf4-b7dc-9c6ab7b33acf",
   "metadata": {},
   "outputs": [],
   "source": []
  }
 ],
 "metadata": {
  "kernelspec": {
   "display_name": "Python 3 (ipykernel)",
   "language": "python",
   "name": "python3"
  },
  "language_info": {
   "codemirror_mode": {
    "name": "ipython",
    "version": 3
   },
   "file_extension": ".py",
   "mimetype": "text/x-python",
   "name": "python",
   "nbconvert_exporter": "python",
   "pygments_lexer": "ipython3",
   "version": "3.11.0"
  }
 },
 "nbformat": 4,
 "nbformat_minor": 5
}
