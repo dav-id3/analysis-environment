{
 "cells": [
  {
   "cell_type": "code",
   "execution_count": 13,
   "id": "e28a8a47-5f2c-4eba-be20-69994738d908",
   "metadata": {},
   "outputs": [],
   "source": [
    "import time\n",
    "\n",
    "from selenium import webdriver\n",
    "from selenium.webdriver.support.ui import Select,WebDriverWait\n",
    "from selenium.webdriver.support import expected_conditions as EC\n",
    "from selenium.webdriver.chrome.options import Options\n",
    "\n",
    "driver = webdriver.Chrome()\n",
    "driver.get(\"https://db.netkeiba.com/?pid=race_search_detail\")\n",
    "title = driver.title"
   ]
  },
  {
   "cell_type": "code",
   "execution_count": 14,
   "id": "e7ca50a8-8bd9-4861-8875-acfd4dcca531",
   "metadata": {},
   "outputs": [
    {
     "name": "stdout",
     "output_type": "stream",
     "text": [
      "レース詳細検索｜競馬データベース - netkeiba.com\n"
     ]
    }
   ],
   "source": [
    "print(title)"
   ]
  },
  {
   "cell_type": "code",
   "execution_count": 15,
   "id": "e9ab13bd-73ca-4569-ab93-9e5f5816a3af",
   "metadata": {},
   "outputs": [
    {
     "ename": "AttributeError",
     "evalue": "'WebDriver' object has no attribute 'find_element_by_name'",
     "output_type": "error",
     "traceback": [
      "\u001b[0;31m---------------------------------------------------------------------------\u001b[0m",
      "\u001b[0;31mAttributeError\u001b[0m                            Traceback (most recent call last)",
      "Cell \u001b[0;32mIn[15], line 6\u001b[0m\n\u001b[1;32m      3\u001b[0m month \u001b[38;5;241m=\u001b[39m \u001b[38;5;241m1\u001b[39m\n\u001b[1;32m      5\u001b[0m \u001b[38;5;66;03m# 期間を選択\u001b[39;00m\n\u001b[0;32m----> 6\u001b[0m start_year_element \u001b[38;5;241m=\u001b[39m \u001b[43mdriver\u001b[49m\u001b[38;5;241;43m.\u001b[39;49m\u001b[43mfind_element_by_name\u001b[49m(\u001b[38;5;124m'\u001b[39m\u001b[38;5;124mstart_year\u001b[39m\u001b[38;5;124m'\u001b[39m)\n\u001b[1;32m      7\u001b[0m start_year_select \u001b[38;5;241m=\u001b[39m Select(start_year_element)\n\u001b[1;32m      8\u001b[0m start_year_select\u001b[38;5;241m.\u001b[39mselect_by_value(\u001b[38;5;28mstr\u001b[39m(year))\n",
      "\u001b[0;31mAttributeError\u001b[0m: 'WebDriver' object has no attribute 'find_element_by_name'"
     ]
    }
   ],
   "source": [
    "# 月ごとに検索\n",
    "year = 2019\n",
    "month = 1\n",
    "\n",
    "# 期間を選択\n",
    "start_year_element = driver.find_element_by_name('start_year')\n",
    "start_year_select = Select(start_year_element)\n",
    "start_year_select.select_by_value(str(year))\n",
    "start_mon_element = driver.find_element_by_name('start_mon')\n",
    "start_mon_select = Select(start_mon_element)\n",
    "start_mon_select.select_by_value(str(month))\n",
    "end_year_element = driver.find_element_by_name('end_year')\n",
    "end_year_select = Select(end_year_element)\n",
    "end_year_select.select_by_value(str(year))\n",
    "end_mon_element = driver.find_element_by_name('end_mon')\n",
    "end_mon_select = Select(end_mon_element)\n",
    "end_mon_select.select_by_value(str(month))\n",
    "\n",
    "# 中央競馬場をチェック\n",
    "for i in range(1,11):\n",
    "    terms = driver.find_element_by_id(\"check_Jyo_\"+ str(i).zfill(2))\n",
    "    terms.click()\n",
    "        \n",
    "# 表示件数を選択(20,50,100の中から最大の100へ)\n",
    "list_element = driver.find_element_by_name('list')\n",
    "list_select = Select(list_element)\n",
    "list_select.select_by_value(\"100\")\n",
    "\n",
    "# フォームを送信\n",
    "frm = driver.find_element_by_css_selector(\"#db_search_detail_form > form\")\n",
    "frm.submit()\n",
    "time.sleep(5)\n",
    "wait.until(EC.presence_of_all_elements_located)"
   ]
  },
  {
   "cell_type": "code",
   "execution_count": null,
   "id": "1e1b8f02-e2cc-4298-be33-db89dc1dbcb5",
   "metadata": {},
   "outputs": [],
   "source": []
  }
 ],
 "metadata": {
  "kernelspec": {
   "display_name": "Python 3 (ipykernel)",
   "language": "python",
   "name": "python3"
  },
  "language_info": {
   "codemirror_mode": {
    "name": "ipython",
    "version": 3
   },
   "file_extension": ".py",
   "mimetype": "text/x-python",
   "name": "python",
   "nbconvert_exporter": "python",
   "pygments_lexer": "ipython3",
   "version": "3.11.0"
  }
 },
 "nbformat": 4,
 "nbformat_minor": 5
}
